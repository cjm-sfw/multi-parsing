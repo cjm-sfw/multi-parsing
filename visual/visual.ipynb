{
 "cells": [
  {
   "cell_type": "code",
   "execution_count": null,
   "metadata": {},
   "outputs": [],
   "source": [
    "from pycocotools.coco import COCO\n",
    "import os\n",
    "import cv2\n",
    "import matplotlib.pyplot as plt\n",
    "import numpy as np\n",
    "import pycocotools.mask as mask_util\n",
    "from random import randint\n",
    "\n",
    "coco_folder = '/mnt/coco/'\n",
    "dp_coco = COCO( coco_folder + 'annotations/DensePose_COCO/densepose_coco_2014_minival.json')"
   ]
  },
  {
   "cell_type": "code",
   "execution_count": null,
   "metadata": {},
   "outputs": [],
   "source": [
    "# Get img id's for the minival dataset.\n",
    "im_ids = dp_coco.getImgIds()\n",
    "# Select a random image id.\n",
    "Selected_im = im_ids[randint(0, len(im_ids))] # Choose im no 57 to replicate \n",
    "# Load the image\n",
    "im = dp_coco.loadImgs(Selected_im)[0]  \n",
    "# Load Anns for the selected image.\n",
    "ann_ids = dp_coco.getAnnIds( imgIds=im['id'] )\n",
    "anns = dp_coco.loadAnns(ann_ids)"
   ]
  },
  {
   "cell_type": "code",
   "execution_count": null,
   "metadata": {},
   "outputs": [],
   "source": [
    "# Now read and b\n",
    "im_name = os.path.join( coco_folder + 'images/val2017', im['file_name'][13:] )"
   ]
  },
  {
   "cell_type": "code",
   "execution_count": null,
   "metadata": {},
   "outputs": [],
   "source": [
    "I=cv2.imread(im_name)\n",
    "plt.imshow(I[:,:,::-1]); plt.axis('off'); plt.show()"
   ]
  },
  {
   "cell_type": "code",
   "execution_count": null,
   "metadata": {},
   "outputs": [],
   "source": [
    "img_info = im"
   ]
  },
  {
   "cell_type": "code",
   "execution_count": null,
   "metadata": {},
   "outputs": [],
   "source": []
  },
  {
   "cell_type": "code",
   "execution_count": null,
   "metadata": {},
   "outputs": [],
   "source": [
    "def GetDensePoseMask(Polys):\n",
    "    MaskGen = np.zeros([256,256])\n",
    "    for i in range(1,15):\n",
    "        if(Polys[i-1]):\n",
    "            current_mask = mask_util.decode(Polys[i-1])\n",
    "            MaskGen[current_mask>0] = i\n",
    "    return MaskGen"
   ]
  },
  {
   "cell_type": "code",
   "execution_count": null,
   "metadata": {},
   "outputs": [],
   "source": [
    "I_vis=I.copy()/2 # Dim the image.\n",
    "\n",
    "for ann in anns:  \n",
    "    bbr =  np.array(ann['bbox']).astype(int) # the box.\n",
    "    if( 'dp_masks' in ann.keys()): # If we have densepose annotation for this ann, \n",
    "        Mask = GetDensePoseMask(ann['dp_masks'])\n",
    "        ################\n",
    "        x1,y1,x2,y2 = bbr[0],bbr[1],bbr[0]+bbr[2],bbr[1]+bbr[3]\n",
    "        x2 = min( [ x2,I.shape[1] ] );  y2 = min( [ y2,I.shape[0] ] )\n",
    "        ################ \n",
    "        MaskIm = cv2.resize( Mask, (int(x2-x1),int(y2-y1)) ,interpolation=cv2.INTER_NEAREST)\n",
    "        MaskBool = np.tile((MaskIm==0)[:,:,np.newaxis],[1,1,3])\n",
    "        #  Replace the visualized mask image with I_vis.\n",
    "        Mask_vis = cv2.applyColorMap( (MaskIm*15).astype(np.uint8) , cv2.COLORMAP_PARULA)[:,:,:]\n",
    "        Mask_vis[MaskBool]=I_vis[y1:y2,x1:x2,:][MaskBool]\n",
    "        I_vis[y1:y2,x1:x2,:] = I_vis[y1:y2,x1:x2,:]*0.3 + Mask_vis*0.7\n",
    "\n",
    "plt.imshow(I_vis[:,:,::-1].astype(int)); plt.axis('off'); plt.show()"
   ]
  },
  {
   "cell_type": "code",
   "execution_count": null,
   "metadata": {},
   "outputs": [],
   "source": [
    "ann_info = anns"
   ]
  },
  {
   "cell_type": "code",
   "execution_count": 19,
   "metadata": {},
   "outputs": [
    {
     "data": {
      "text/plain": [
       "{'license': 1,\n",
       " 'file_name': 'COCO_val2014_000000301563.jpg',\n",
       " 'coco_url': 'http://mscoco.org/images/301563',\n",
       " 'height': 428,\n",
       " 'width': 640,\n",
       " 'date_captured': '2013-11-20 06:07:09',\n",
       " 'flickr_url': 'http://farm4.staticflickr.com/3423/3983648748_94a0b36ddd_z.jpg',\n",
       " 'id': 301563}"
      ]
     },
     "execution_count": 19,
     "metadata": {},
     "output_type": "execute_result"
    }
   ],
   "source": [
    "img_info"
   ]
  },
  {
   "cell_type": "code",
   "execution_count": 34,
   "metadata": {},
   "outputs": [
    {
     "data": {
      "text/plain": [
       "dict_keys(['segmentation', 'num_keypoints', 'dp_masks', 'area', 'dp_I', 'iscrowd', 'keypoints', 'dp_x', 'dp_U', 'image_id', 'dp_V', 'bbox', 'category_id', 'dp_y', 'id'])"
      ]
     },
     "execution_count": 34,
     "metadata": {},
     "output_type": "execute_result"
    }
   ],
   "source": [
    "anns[0].keys()"
   ]
  },
  {
   "cell_type": "code",
   "execution_count": 32,
   "metadata": {},
   "outputs": [],
   "source": [
    "ann_info = {}"
   ]
  },
  {
   "cell_type": "code",
   "execution_count": 27,
   "metadata": {},
   "outputs": [
    {
     "ename": "TypeError",
     "evalue": "list indices must be integers or slices, not str",
     "output_type": "error",
     "traceback": [
      "\u001b[0;31m---------------------------------------------------------------------------\u001b[0m",
      "\u001b[0;31mTypeError\u001b[0m                                 Traceback (most recent call last)",
      "\u001b[0;32m<ipython-input-27-2fccaa5098c6>\u001b[0m in \u001b[0;36m<module>\u001b[0;34m\u001b[0m\n\u001b[0;32m----> 1\u001b[0;31m \u001b[0mann_info\u001b[0m\u001b[0;34m[\u001b[0m\u001b[0;34m'parsing'\u001b[0m\u001b[0;34m]\u001b[0m \u001b[0;34m=\u001b[0m \u001b[0;34m[\u001b[0m\u001b[0mann_info\u001b[0m\u001b[0;34m[\u001b[0m\u001b[0mi\u001b[0m\u001b[0;34m]\u001b[0m\u001b[0;34m[\u001b[0m\u001b[0;34m'dp_masks'\u001b[0m\u001b[0;34m]\u001b[0m \u001b[0;32mif\u001b[0m \u001b[0;34m'dp_masks'\u001b[0m \u001b[0;32min\u001b[0m \u001b[0mann_info\u001b[0m\u001b[0;34m[\u001b[0m\u001b[0mi\u001b[0m\u001b[0;34m]\u001b[0m\u001b[0;34m.\u001b[0m\u001b[0mkeys\u001b[0m\u001b[0;34m(\u001b[0m\u001b[0;34m)\u001b[0m \u001b[0;32melse\u001b[0m \u001b[0;34m[\u001b[0m\u001b[0;34m]\u001b[0m \u001b[0;32mfor\u001b[0m \u001b[0mi\u001b[0m \u001b[0;32min\u001b[0m \u001b[0mrange\u001b[0m\u001b[0;34m(\u001b[0m\u001b[0mlen\u001b[0m\u001b[0;34m(\u001b[0m\u001b[0mann_info\u001b[0m\u001b[0;34m)\u001b[0m\u001b[0;34m)\u001b[0m\u001b[0;34m]\u001b[0m\u001b[0;34m\u001b[0m\u001b[0;34m\u001b[0m\u001b[0m\n\u001b[0m",
      "\u001b[0;31mTypeError\u001b[0m: list indices must be integers or slices, not str"
     ]
    }
   ],
   "source": [
    "ann_info['parsing'] = [ann_info[i]['dp_masks'] if 'dp_masks' in ann_info[i].keys() else [] for i in range(len(ann_info))]\n",
    "ann_info['bboxes'] = [ann_info[i]['bbox'] if 'dp_masks' in ann_info[i].keys() else [] for i in range(len(ann_info))]"
   ]
  },
  {
   "cell_type": "code",
   "execution_count": 14,
   "metadata": {},
   "outputs": [],
   "source": [
    "results = {'img_info': img_info, 'ann_info': ann_info}"
   ]
  },
  {
   "cell_type": "code",
   "execution_count": 15,
   "metadata": {},
   "outputs": [],
   "source": [
    " def dp_mask_to_mask(polys):\n",
    "        \n",
    "    semantic_mask = np.zeros((256, 256), dtype=np.uint8)\n",
    "    if len(polys) < 14:\n",
    "        return semantic_mask\n",
    "    for i in range(1, 15):\n",
    "        if polys[i-1]:\n",
    "            current_mask = maskUtils.decode(polys[i - 1])\n",
    "            semantic_mask[current_mask > 0] = i\n",
    "\n",
    "    return semantic_mask\n",
    "    \n",
    "def rle2parsing(self, mask_ann, h, w, bbox):\n",
    "    # encoded dp_mask\n",
    "    semantic_mask = np.zeros((h, w), dtype=np.uint8)\n",
    "    mask = dp_mask_to_mask(mask_ann)\n",
    "    bbr = np.array(bbox).astype(int)\n",
    "    x1, y1, x2, y2 = bbr[0], bbr[1], bbr[0] + bbr[2], bbr[1] + bbr[3]\n",
    "    x2, y2 = min(x2, w), min(y2, h)\n",
    "    if x1 < x2 and y1 < y2:\n",
    "        mask = cv2.resize(mask, (int(x2 - x1), int(y2 - y1)),\n",
    "                                  interpolation=cv2.INTER_NEAREST)\n",
    "        mask_bool = np.where(mask > 0, 1, 0)\n",
    "        semantic_mask[y1:y2, x1:x2][mask_bool > 0] = mask[mask_bool > 0]\n",
    "        mask = semantic_mask\n",
    "    return mask"
   ]
  },
  {
   "cell_type": "code",
   "execution_count": 16,
   "metadata": {},
   "outputs": [],
   "source": [
    "RLE2parsing = True\n",
    "def load_parsing(results):\n",
    "    h, w = results['img_info']['height'], results['img_info']['width']\n",
    "    gt_parsing = results['ann_info']['parsing']\n",
    "    if gt_parsing == None:\n",
    "        return None\n",
    "    if RLE2parsing:\n",
    "        gt_parsing = [rle2parsing(gt_parsing[i], h, w, results['gt_bboxes'][i]) for i in range(len(gt_parsing))]\n",
    "    results['gt_parsing'] = gt_parsing\n",
    "    results['parsing_fields'].append('gt_parsing')\n",
    "    return results"
   ]
  },
  {
   "cell_type": "code",
   "execution_count": 17,
   "metadata": {},
   "outputs": [
    {
     "ename": "TypeError",
     "evalue": "list indices must be integers or slices, not str",
     "output_type": "error",
     "traceback": [
      "\u001b[0;31m---------------------------------------------------------------------------\u001b[0m",
      "\u001b[0;31mTypeError\u001b[0m                                 Traceback (most recent call last)",
      "\u001b[0;32m<ipython-input-17-dd5fba71c312>\u001b[0m in \u001b[0;36m<module>\u001b[0;34m\u001b[0m\n\u001b[0;32m----> 1\u001b[0;31m \u001b[0mload_parsing\u001b[0m\u001b[0;34m(\u001b[0m\u001b[0mresults\u001b[0m\u001b[0;34m)\u001b[0m\u001b[0;34m\u001b[0m\u001b[0;34m\u001b[0m\u001b[0m\n\u001b[0m",
      "\u001b[0;32m<ipython-input-16-5b09cae36f20>\u001b[0m in \u001b[0;36mload_parsing\u001b[0;34m(results)\u001b[0m\n\u001b[1;32m      2\u001b[0m \u001b[0;32mdef\u001b[0m \u001b[0mload_parsing\u001b[0m\u001b[0;34m(\u001b[0m\u001b[0mresults\u001b[0m\u001b[0;34m)\u001b[0m\u001b[0;34m:\u001b[0m\u001b[0;34m\u001b[0m\u001b[0;34m\u001b[0m\u001b[0m\n\u001b[1;32m      3\u001b[0m     \u001b[0mh\u001b[0m\u001b[0;34m,\u001b[0m \u001b[0mw\u001b[0m \u001b[0;34m=\u001b[0m \u001b[0mresults\u001b[0m\u001b[0;34m[\u001b[0m\u001b[0;34m'img_info'\u001b[0m\u001b[0;34m]\u001b[0m\u001b[0;34m[\u001b[0m\u001b[0;34m'height'\u001b[0m\u001b[0;34m]\u001b[0m\u001b[0;34m,\u001b[0m \u001b[0mresults\u001b[0m\u001b[0;34m[\u001b[0m\u001b[0;34m'img_info'\u001b[0m\u001b[0;34m]\u001b[0m\u001b[0;34m[\u001b[0m\u001b[0;34m'width'\u001b[0m\u001b[0;34m]\u001b[0m\u001b[0;34m\u001b[0m\u001b[0;34m\u001b[0m\u001b[0m\n\u001b[0;32m----> 4\u001b[0;31m     \u001b[0mgt_parsing\u001b[0m \u001b[0;34m=\u001b[0m \u001b[0mresults\u001b[0m\u001b[0;34m[\u001b[0m\u001b[0;34m'ann_info'\u001b[0m\u001b[0;34m]\u001b[0m\u001b[0;34m[\u001b[0m\u001b[0;34m'parsing'\u001b[0m\u001b[0;34m]\u001b[0m\u001b[0;34m\u001b[0m\u001b[0;34m\u001b[0m\u001b[0m\n\u001b[0m\u001b[1;32m      5\u001b[0m     \u001b[0;32mif\u001b[0m \u001b[0mgt_parsing\u001b[0m \u001b[0;34m==\u001b[0m \u001b[0;32mNone\u001b[0m\u001b[0;34m:\u001b[0m\u001b[0;34m\u001b[0m\u001b[0;34m\u001b[0m\u001b[0m\n\u001b[1;32m      6\u001b[0m         \u001b[0;32mreturn\u001b[0m \u001b[0;32mNone\u001b[0m\u001b[0;34m\u001b[0m\u001b[0;34m\u001b[0m\u001b[0m\n",
      "\u001b[0;31mTypeError\u001b[0m: list indices must be integers or slices, not str"
     ]
    }
   ],
   "source": [
    "load_parsing(results)"
   ]
  }
 ],
 "metadata": {
  "kernelspec": {
   "display_name": "myconda",
   "language": "python",
   "name": "myconda"
  },
  "language_info": {
   "codemirror_mode": {
    "name": "ipython",
    "version": 3
   },
   "file_extension": ".py",
   "mimetype": "text/x-python",
   "name": "python",
   "nbconvert_exporter": "python",
   "pygments_lexer": "ipython3",
   "version": "3.8.2"
  }
 },
 "nbformat": 4,
 "nbformat_minor": 4
}
